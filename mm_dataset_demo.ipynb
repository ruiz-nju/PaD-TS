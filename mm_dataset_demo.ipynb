{
 "cells": [
  {
   "cell_type": "code",
   "execution_count": 2,
   "metadata": {},
   "outputs": [
    {
     "name": "stderr",
     "output_type": "stream",
     "text": [
      "2025-03-20 22:24:32.195295: I tensorflow/core/platform/cpu_feature_guard.cc:193] This TensorFlow binary is optimized with oneAPI Deep Neural Network Library (oneDNN) to use the following CPU instructions in performance-critical operations:  AVX2 AVX512F AVX512_VNNI FMA\n",
      "To enable them in other operations, rebuild TensorFlow with the appropriate compiler flags.\n",
      "2025-03-20 22:24:32.316530: I tensorflow/core/util/util.cc:169] oneDNN custom operations are on. You may see slightly different numerical results due to floating-point round-off errors from different computation orders. To turn them off, set the environment variable `TF_ENABLE_ONEDNN_OPTS=0`.\n",
      "2025-03-20 22:24:32.347305: E tensorflow/stream_executor/cuda/cuda_blas.cc:2981] Unable to register cuBLAS factory: Attempting to register factory for plugin cuBLAS when one has already been registered\n",
      "2025-03-20 22:24:32.869225: W tensorflow/stream_executor/platform/default/dso_loader.cc:64] Could not load dynamic library 'libnvinfer.so.7'; dlerror: libnvinfer.so.7: cannot open shared object file: No such file or directory\n",
      "2025-03-20 22:24:32.869288: W tensorflow/stream_executor/platform/default/dso_loader.cc:64] Could not load dynamic library 'libnvinfer_plugin.so.7'; dlerror: libnvinfer_plugin.so.7: cannot open shared object file: No such file or directory\n",
      "2025-03-20 22:24:32.869294: W tensorflow/compiler/tf2tensorrt/utils/py_utils.cc:38] TF-TRT Warning: Cannot dlopen some TensorRT libraries. If you would like to use Nvidia GPU with TensorRT, please make sure the missing libraries mentioned above are installed properly.\n"
     ]
    }
   ],
   "source": [
    "import torch\n",
    "from utils.config.default import get_cfg_default\n",
    "from utils.tools import *\n",
    "from utils.logger import *\n",
    "from utils.engine.builder import build_dataset, build_model\n",
    "import dataset.demo\n",
    "\n",
    "\n",
    "root=\"./data\"\n",
    "output_dir=\"./output/demo/PaD_TS/default/seed_1\"\n",
    "model=\"PaD_TS\"\n",
    "config_file = \"./configs/models/PaD_TS/default.yaml\"\n",
    "dataset_config_file = \"./configs/datasets/demo.yaml\"\n",
    "window = 3\n",
    "seed = 1\n",
    "period = \"train\""
   ]
  },
  {
   "cell_type": "code",
   "execution_count": 3,
   "metadata": {},
   "outputs": [
    {
     "name": "stdout",
     "output_type": "stream",
     "text": [
      "Setting fixed seed: 1\n"
     ]
    }
   ],
   "source": [
    "def extend_cfg(cfg):\n",
    "    from yacs.config import CfgNode as CN\n",
    "\n",
    "    # PAD_TS 模型的默认配置\n",
    "    cfg.MODEL.PAD_TS = CN()\n",
    "    cfg.MODEL.PAD_TS.HIDDEN_SIZE = 128\n",
    "    cfg.MODEL.PAD_TS.NUM_HEADS = 4\n",
    "    cfg.MODEL.PAD_TS.N_ENCODER = 1\n",
    "    cfg.MODEL.PAD_TS.N_DECODER = 3\n",
    "    cfg.MODEL.PAD_TS.FEATURE_LAST = True\n",
    "    cfg.MODEL.PAD_TS.DROPOUT = 0.0\n",
    "    cfg.MODEL.PAD_TS.MLP_RATIO = 4.0\n",
    "\n",
    "cfg = get_cfg_default()\n",
    "extend_cfg(cfg)\n",
    "cfg.merge_from_file(dataset_config_file)\n",
    "cfg.merge_from_file(config_file)\n",
    "cfg.DATASET.ROOT = root\n",
    "cfg.OUTPUT_DIR = output_dir\n",
    "cfg.SEED = seed\n",
    "cfg.MODEL.NAME = model\n",
    "cfg.DATASET.WINDOW = window\n",
    "cfg.DATASET.PERIOD = period\n",
    "cfg.freeze()\n",
    "\n",
    "if cfg.SEED >= 0:\n",
    "        print(\"Setting fixed seed: {}\".format(cfg.SEED))\n",
    "        set_random_seed(cfg.SEED)\n",
    "\n",
    "\n",
    "if torch.cuda.is_available() and cfg.USE_CUDA:\n",
    "    torch.backends.cudnn.benchmark = True"
   ]
  },
  {
   "cell_type": "code",
   "execution_count": 4,
   "metadata": {},
   "outputs": [
    {
     "name": "stdout",
     "output_type": "stream",
     "text": [
      "Loading dataset: demo\n",
      "[[[ 1  6]\n",
      "  [ 2  7]\n",
      "  [ 3  8]]\n",
      "\n",
      " [[ 2  7]\n",
      "  [ 3  8]\n",
      "  [ 4  9]]\n",
      "\n",
      " [[ 3  8]\n",
      "  [ 4  9]\n",
      "  [ 5 10]]\n",
      "\n",
      " [[ 4  9]\n",
      "  [ 5 10]\n",
      "  [ 6 11]]\n",
      "\n",
      " [[ 5 10]\n",
      "  [ 6 11]\n",
      "  [ 7 12]]\n",
      "\n",
      " [[ 6 11]\n",
      "  [ 7 12]\n",
      "  [ 8 13]]\n",
      "\n",
      " [[ 7 12]\n",
      "  [ 8 13]\n",
      "  [ 9 14]]\n",
      "\n",
      " [[ 8 13]\n",
      "  [ 9 14]\n",
      "  [10 15]]\n",
      "\n",
      " [[ 9 14]\n",
      "  [10 15]\n",
      "  [11 16]]\n",
      "\n",
      " [[10 15]\n",
      "  [11 16]\n",
      "  [12 17]]\n",
      "\n",
      " [[11 16]\n",
      "  [12 17]\n",
      "  [13 18]]\n",
      "\n",
      " [[12 17]\n",
      "  [13 18]\n",
      "  [14 19]]\n",
      "\n",
      " [[13 18]\n",
      "  [14 19]\n",
      "  [15 20]]\n",
      "\n",
      " [[14 19]\n",
      "  [15 20]\n",
      "  [16 21]]\n",
      "\n",
      " [[15 20]\n",
      "  [16 21]\n",
      "  [17 22]]\n",
      "\n",
      " [[16 21]\n",
      "  [17 22]\n",
      "  [18 23]]\n",
      "\n",
      " [[17 22]\n",
      "  [18 23]\n",
      "  [19 24]]\n",
      "\n",
      " [[18 23]\n",
      "  [19 24]\n",
      "  [20 25]]]\n",
      "[['Text 1', 'Text 2', 'Text 3'], ['Text 2', 'Text 3', 'Text 4'], ['Text 3', 'Text 4', 'Text 5'], ['Text 4', 'Text 5', 'Text 6'], ['Text 5', 'Text 6', 'Text 7'], ['Text 6', 'Text 7', 'Text 8'], ['Text 7', 'Text 8', 'Text 9'], ['Text 8', 'Text 9', 'Text 10'], ['Text 9', 'Text 10', 'Text 11'], ['Text 10', 'Text 11', 'Text 12'], ['Text 11', 'Text 12', 'Text 13'], ['Text 12', 'Text 13', 'Text 14'], ['Text 13', 'Text 14', 'Text 15'], ['Text 14', 'Text 15', 'Text 16'], ['Text 15', 'Text 16', 'Text 17'], ['Text 16', 'Text 17', 'Text 18'], ['Text 17', 'Text 18', 'Text 19'], ['Text 18', 'Text 19', 'Text 20']]\n"
     ]
    }
   ],
   "source": [
    "dataset = build_dataset(cfg)\n",
    "print(dataset.train[\"numerical\"])\n",
    "print(dataset.train[\"text\"])"
   ]
  }
 ],
 "metadata": {
  "kernelspec": {
   "display_name": "PaD-TS",
   "language": "python",
   "name": "python3"
  },
  "language_info": {
   "codemirror_mode": {
    "name": "ipython",
    "version": 3
   },
   "file_extension": ".py",
   "mimetype": "text/x-python",
   "name": "python",
   "nbconvert_exporter": "python",
   "pygments_lexer": "ipython3",
   "version": "3.8.18"
  }
 },
 "nbformat": 4,
 "nbformat_minor": 2
}
